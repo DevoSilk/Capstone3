{
 "cells": [
  {
   "cell_type": "code",
   "execution_count": 1,
   "metadata": {},
   "outputs": [],
   "source": [
    "import pandas as pd\n",
    "import numpy as np\n",
    "import copy\n",
    "import pickle\n",
    "\n",
    "from surprise import KNNBaseline, KNNWithMeans, NMF\n",
    "from surprise import Dataset\n",
    "from surprise import Reader\n",
    "from surprise import accuracy\n",
    "from surprise import KNNBasic, SVD\n",
    "from surprise import get_dataset_dir\n",
    "from surprise.model_selection import KFold\n",
    "from surprise.model_selection import cross_validate\n",
    "from surprise.model_selection import train_test_split\n",
    "from surprise.model_selection import GridSearchCV\n",
    "\n",
    "\n",
    "from sklearn.preprocessing import StandardScaler\n",
    "from sklearn.preprocessing import Normalizer\n",
    "from sklearn.decomposition import TruncatedSVD\n",
    "\n",
    "from scipy import spatial\n",
    "\n",
    "import matplotlib.pyplot as plt\n",
    "import seaborn as sns\n",
    "%matplotlib inline\n",
    "\n",
    "\n",
    "import warnings\n",
    "warnings.filterwarnings(\"ignore\")"
   ]
  },
  {
   "cell_type": "code",
   "execution_count": 2,
   "metadata": {},
   "outputs": [
    {
     "name": "stdout",
     "output_type": "stream",
     "text": [
      "<class 'pandas.core.frame.DataFrame'>\n",
      "RangeIndex: 9073128 entries, 0 to 9073127\n",
      "Data columns (total 10 columns):\n",
      " #   Column    Dtype  \n",
      "---  ------    -----  \n",
      " 0   beer_id   int64  \n",
      " 1   username  object \n",
      " 2   date      object \n",
      " 3   text      object \n",
      " 4   look      float64\n",
      " 5   smell     float64\n",
      " 6   taste     float64\n",
      " 7   feel      float64\n",
      " 8   overall   float64\n",
      " 9   score     float64\n",
      "dtypes: float64(6), int64(1), object(3)\n",
      "memory usage: 692.2+ MB\n"
     ]
    }
   ],
   "source": [
    "reviews= pd.read_csv('~/den-19/capstone3/data/reviews.csv')\n",
    "reviews.info()"
   ]
  },
  {
   "cell_type": "code",
   "execution_count": 3,
   "metadata": {},
   "outputs": [
    {
     "data": {
      "text/html": [
       "<div>\n",
       "<style scoped>\n",
       "    .dataframe tbody tr th:only-of-type {\n",
       "        vertical-align: middle;\n",
       "    }\n",
       "\n",
       "    .dataframe tbody tr th {\n",
       "        vertical-align: top;\n",
       "    }\n",
       "\n",
       "    .dataframe thead th {\n",
       "        text-align: right;\n",
       "    }\n",
       "</style>\n",
       "<table border=\"1\" class=\"dataframe\">\n",
       "  <thead>\n",
       "    <tr style=\"text-align: right;\">\n",
       "      <th></th>\n",
       "      <th>beer_id</th>\n",
       "      <th>username</th>\n",
       "      <th>look</th>\n",
       "      <th>smell</th>\n",
       "      <th>taste</th>\n",
       "      <th>feel</th>\n",
       "      <th>overall</th>\n",
       "      <th>score</th>\n",
       "    </tr>\n",
       "  </thead>\n",
       "  <tbody>\n",
       "    <tr>\n",
       "      <th>0</th>\n",
       "      <td>3</td>\n",
       "      <td>Jason</td>\n",
       "      <td>3.5</td>\n",
       "      <td>4.0</td>\n",
       "      <td>4.0</td>\n",
       "      <td>4.5</td>\n",
       "      <td>4.0</td>\n",
       "      <td>4.02</td>\n",
       "    </tr>\n",
       "    <tr>\n",
       "      <th>1</th>\n",
       "      <td>3</td>\n",
       "      <td>Morris729</td>\n",
       "      <td>4.0</td>\n",
       "      <td>3.5</td>\n",
       "      <td>4.0</td>\n",
       "      <td>4.0</td>\n",
       "      <td>4.0</td>\n",
       "      <td>3.88</td>\n",
       "    </tr>\n",
       "    <tr>\n",
       "      <th>2</th>\n",
       "      <td>3</td>\n",
       "      <td>MAB</td>\n",
       "      <td>4.0</td>\n",
       "      <td>4.5</td>\n",
       "      <td>4.5</td>\n",
       "      <td>4.0</td>\n",
       "      <td>4.5</td>\n",
       "      <td>4.42</td>\n",
       "    </tr>\n",
       "    <tr>\n",
       "      <th>3</th>\n",
       "      <td>4</td>\n",
       "      <td>allengarvin</td>\n",
       "      <td>3.5</td>\n",
       "      <td>3.5</td>\n",
       "      <td>3.5</td>\n",
       "      <td>4.0</td>\n",
       "      <td>3.5</td>\n",
       "      <td>3.55</td>\n",
       "    </tr>\n",
       "    <tr>\n",
       "      <th>4</th>\n",
       "      <td>4</td>\n",
       "      <td>bditty187</td>\n",
       "      <td>4.0</td>\n",
       "      <td>3.0</td>\n",
       "      <td>3.0</td>\n",
       "      <td>3.5</td>\n",
       "      <td>3.5</td>\n",
       "      <td>3.21</td>\n",
       "    </tr>\n",
       "  </tbody>\n",
       "</table>\n",
       "</div>"
      ],
      "text/plain": [
       "   beer_id     username  look  smell  taste  feel  overall  score\n",
       "0        3        Jason   3.5    4.0    4.0   4.5      4.0   4.02\n",
       "1        3    Morris729   4.0    3.5    4.0   4.0      4.0   3.88\n",
       "2        3          MAB   4.0    4.5    4.5   4.0      4.5   4.42\n",
       "3        4  allengarvin   3.5    3.5    3.5   4.0      3.5   3.55\n",
       "4        4    bditty187   4.0    3.0    3.0   3.5      3.5   3.21"
      ]
     },
     "execution_count": 3,
     "metadata": {},
     "output_type": "execute_result"
    }
   ],
   "source": [
    "reviews_1= reviews[['beer_id', 'username','look','smell','taste','feel','overall','score']].sort_values(['beer_id'], ascending=True)\n",
    "reviews_1 = reviews_1.reset_index()\n",
    "reviews_1 = reviews_1.fillna(0)\n",
    "reviews_1 = reviews_1.drop(['index'], axis = 1)\n",
    "reviews_1.head()"
   ]
  },
  {
   "cell_type": "code",
   "execution_count": 4,
   "metadata": {},
   "outputs": [
    {
     "name": "stdout",
     "output_type": "stream",
     "text": [
      "<class 'pandas.core.frame.DataFrame'>\n",
      "RangeIndex: 9073128 entries, 0 to 9073127\n",
      "Data columns (total 8 columns):\n",
      " #   Column    Dtype  \n",
      "---  ------    -----  \n",
      " 0   beer_id   int64  \n",
      " 1   username  object \n",
      " 2   look      float64\n",
      " 3   smell     float64\n",
      " 4   taste     float64\n",
      " 5   feel      float64\n",
      " 6   overall   float64\n",
      " 7   score     float64\n",
      "dtypes: float64(6), int64(1), object(1)\n",
      "memory usage: 553.8+ MB\n"
     ]
    }
   ],
   "source": [
    "reviews_1.info()"
   ]
  },
  {
   "cell_type": "code",
   "execution_count": 5,
   "metadata": {},
   "outputs": [
    {
     "data": {
      "text/plain": [
       "Index(['id', 'name', 'brewery_id', 'state', 'country', 'style', 'availability',\n",
       "       'abv', 'notes', 'retired'],\n",
       "      dtype='object')"
      ]
     },
     "execution_count": 5,
     "metadata": {},
     "output_type": "execute_result"
    }
   ],
   "source": [
    "beers = pd.read_csv('~/den-19/capstone3/data/beers.csv')\n",
    "beers.columns"
   ]
  },
  {
   "cell_type": "code",
   "execution_count": 6,
   "metadata": {},
   "outputs": [
    {
     "data": {
      "text/html": [
       "<div>\n",
       "<style scoped>\n",
       "    .dataframe tbody tr th:only-of-type {\n",
       "        vertical-align: middle;\n",
       "    }\n",
       "\n",
       "    .dataframe tbody tr th {\n",
       "        vertical-align: top;\n",
       "    }\n",
       "\n",
       "    .dataframe thead th {\n",
       "        text-align: right;\n",
       "    }\n",
       "</style>\n",
       "<table border=\"1\" class=\"dataframe\">\n",
       "  <thead>\n",
       "    <tr style=\"text-align: right;\">\n",
       "      <th></th>\n",
       "      <th>beer_id</th>\n",
       "      <th>beer_name</th>\n",
       "      <th>brewery_id</th>\n",
       "      <th>style</th>\n",
       "    </tr>\n",
       "  </thead>\n",
       "  <tbody>\n",
       "    <tr>\n",
       "      <th>8752</th>\n",
       "      <td>3</td>\n",
       "      <td>Cactus Queen IPA</td>\n",
       "      <td>2</td>\n",
       "      <td>American IPA</td>\n",
       "    </tr>\n",
       "    <tr>\n",
       "      <th>8760</th>\n",
       "      <td>4</td>\n",
       "      <td>Wildcatter's Crude Stout</td>\n",
       "      <td>2</td>\n",
       "      <td>American Stout</td>\n",
       "    </tr>\n",
       "    <tr>\n",
       "      <th>8817</th>\n",
       "      <td>5</td>\n",
       "      <td>Amber</td>\n",
       "      <td>3</td>\n",
       "      <td>Vienna Lager</td>\n",
       "    </tr>\n",
       "    <tr>\n",
       "      <th>8818</th>\n",
       "      <td>6</td>\n",
       "      <td>Turbodog</td>\n",
       "      <td>3</td>\n",
       "      <td>English Brown Ale</td>\n",
       "    </tr>\n",
       "    <tr>\n",
       "      <th>8819</th>\n",
       "      <td>7</td>\n",
       "      <td>Purple Haze</td>\n",
       "      <td>3</td>\n",
       "      <td>Fruit and Field Beer</td>\n",
       "    </tr>\n",
       "  </tbody>\n",
       "</table>\n",
       "</div>"
      ],
      "text/plain": [
       "      beer_id                 beer_name  brewery_id                 style\n",
       "8752        3          Cactus Queen IPA           2          American IPA\n",
       "8760        4  Wildcatter's Crude Stout           2        American Stout\n",
       "8817        5                     Amber           3          Vienna Lager\n",
       "8818        6                  Turbodog           3     English Brown Ale\n",
       "8819        7               Purple Haze           3  Fruit and Field Beer"
      ]
     },
     "execution_count": 6,
     "metadata": {},
     "output_type": "execute_result"
    }
   ],
   "source": [
    "beers_1= beers[['id', 'name', 'brewery_id', 'style']]\n",
    "beers_1 = beers_1.rename(columns= {'id':'beer_id', 'name':'beer_name'})\n",
    "beers_1 = beers_1.sort_values(['beer_id'], ascending= True)\n",
    "#beers_1.set_index('beer_id')\n",
    "beers_1.head()"
   ]
  },
  {
   "cell_type": "code",
   "execution_count": 7,
   "metadata": {},
   "outputs": [
    {
     "data": {
      "text/plain": [
       "Index(['id', 'name', 'city', 'state', 'country', 'notes', 'types'], dtype='object')"
      ]
     },
     "execution_count": 7,
     "metadata": {},
     "output_type": "execute_result"
    }
   ],
   "source": [
    "brewery = pd.read_csv('~/den-19/capstone3/data/breweries.csv')\n",
    "brewery.columns"
   ]
  },
  {
   "cell_type": "code",
   "execution_count": 8,
   "metadata": {},
   "outputs": [
    {
     "data": {
      "text/html": [
       "<div>\n",
       "<style scoped>\n",
       "    .dataframe tbody tr th:only-of-type {\n",
       "        vertical-align: middle;\n",
       "    }\n",
       "\n",
       "    .dataframe tbody tr th {\n",
       "        vertical-align: top;\n",
       "    }\n",
       "\n",
       "    .dataframe thead th {\n",
       "        text-align: right;\n",
       "    }\n",
       "</style>\n",
       "<table border=\"1\" class=\"dataframe\">\n",
       "  <thead>\n",
       "    <tr style=\"text-align: right;\">\n",
       "      <th></th>\n",
       "      <th>brewery_id</th>\n",
       "      <th>brewery_name</th>\n",
       "    </tr>\n",
       "  </thead>\n",
       "  <tbody>\n",
       "    <tr>\n",
       "      <th>17575</th>\n",
       "      <td>1</td>\n",
       "      <td>Plzeňský Prazdroj</td>\n",
       "    </tr>\n",
       "    <tr>\n",
       "      <th>16112</th>\n",
       "      <td>2</td>\n",
       "      <td>Yellow Rose Brewing Company</td>\n",
       "    </tr>\n",
       "    <tr>\n",
       "      <th>23348</th>\n",
       "      <td>3</td>\n",
       "      <td>Abita Brewing Co.</td>\n",
       "    </tr>\n",
       "    <tr>\n",
       "      <th>38987</th>\n",
       "      <td>4</td>\n",
       "      <td>Allagash Brewing Company</td>\n",
       "    </tr>\n",
       "    <tr>\n",
       "      <th>49940</th>\n",
       "      <td>5</td>\n",
       "      <td>Yakima Brewing Co. / Bert Grant's Ales</td>\n",
       "    </tr>\n",
       "    <tr>\n",
       "      <th>18806</th>\n",
       "      <td>6</td>\n",
       "      <td>Brouwerij Slaghmuylder</td>\n",
       "    </tr>\n",
       "    <tr>\n",
       "      <th>38157</th>\n",
       "      <td>8</td>\n",
       "      <td>Widmer Brothers Brewing Company</td>\n",
       "    </tr>\n",
       "    <tr>\n",
       "      <th>40270</th>\n",
       "      <td>9</td>\n",
       "      <td>Whitbread PLC</td>\n",
       "    </tr>\n",
       "    <tr>\n",
       "      <th>18176</th>\n",
       "      <td>10</td>\n",
       "      <td>Whim Ales</td>\n",
       "    </tr>\n",
       "    <tr>\n",
       "      <th>7427</th>\n",
       "      <td>11</td>\n",
       "      <td>North East Brewing Company</td>\n",
       "    </tr>\n",
       "  </tbody>\n",
       "</table>\n",
       "</div>"
      ],
      "text/plain": [
       "       brewery_id                            brewery_name\n",
       "17575           1                       Plzeňský Prazdroj\n",
       "16112           2             Yellow Rose Brewing Company\n",
       "23348           3                       Abita Brewing Co.\n",
       "38987           4                Allagash Brewing Company\n",
       "49940           5  Yakima Brewing Co. / Bert Grant's Ales\n",
       "18806           6                  Brouwerij Slaghmuylder\n",
       "38157           8         Widmer Brothers Brewing Company\n",
       "40270           9                           Whitbread PLC\n",
       "18176          10                               Whim Ales\n",
       "7427           11              North East Brewing Company"
      ]
     },
     "execution_count": 8,
     "metadata": {},
     "output_type": "execute_result"
    }
   ],
   "source": [
    "brewery_1 = brewery[['id', 'name']]\n",
    "brewery_1 = brewery_1.rename(columns={'id':'brewery_id', 'name':'brewery_name'})\n",
    "brewery_1 = brewery_1.sort_values(['brewery_id'])\n",
    "\n",
    "brewery_1.head(10)\n",
    "\n",
    "#I can clean this up a little by moving the rename \"name\" up "
   ]
  },
  {
   "cell_type": "code",
   "execution_count": 9,
   "metadata": {},
   "outputs": [
    {
     "data": {
      "text/html": [
       "<div>\n",
       "<style scoped>\n",
       "    .dataframe tbody tr th:only-of-type {\n",
       "        vertical-align: middle;\n",
       "    }\n",
       "\n",
       "    .dataframe tbody tr th {\n",
       "        vertical-align: top;\n",
       "    }\n",
       "\n",
       "    .dataframe thead th {\n",
       "        text-align: right;\n",
       "    }\n",
       "</style>\n",
       "<table border=\"1\" class=\"dataframe\">\n",
       "  <thead>\n",
       "    <tr style=\"text-align: right;\">\n",
       "      <th></th>\n",
       "      <th>brewery_id</th>\n",
       "      <th>brewery_name</th>\n",
       "      <th>style</th>\n",
       "      <th>beer_name</th>\n",
       "      <th>beer_id</th>\n",
       "    </tr>\n",
       "  </thead>\n",
       "  <tbody>\n",
       "    <tr>\n",
       "      <th>0</th>\n",
       "      <td>1</td>\n",
       "      <td>Plzeňský Prazdroj</td>\n",
       "      <td>Bohemian Pilsener</td>\n",
       "      <td>Pilsner Urquell</td>\n",
       "      <td>429</td>\n",
       "    </tr>\n",
       "    <tr>\n",
       "      <th>1</th>\n",
       "      <td>1</td>\n",
       "      <td>Plzeňský Prazdroj</td>\n",
       "      <td>Bohemian Pilsener</td>\n",
       "      <td>Gambrinus</td>\n",
       "      <td>5916</td>\n",
       "    </tr>\n",
       "    <tr>\n",
       "      <th>2</th>\n",
       "      <td>1</td>\n",
       "      <td>Plzeňský Prazdroj</td>\n",
       "      <td>Bohemian Pilsener</td>\n",
       "      <td>Eisbrau Czech</td>\n",
       "      <td>14348</td>\n",
       "    </tr>\n",
       "    <tr>\n",
       "      <th>3</th>\n",
       "      <td>1</td>\n",
       "      <td>Plzeňský Prazdroj</td>\n",
       "      <td>Bohemian Pilsener</td>\n",
       "      <td>Primus</td>\n",
       "      <td>19099</td>\n",
       "    </tr>\n",
       "    <tr>\n",
       "      <th>4</th>\n",
       "      <td>1</td>\n",
       "      <td>Plzeňský Prazdroj</td>\n",
       "      <td>Bohemian Pilsener</td>\n",
       "      <td>Gambrinus Pale</td>\n",
       "      <td>19123</td>\n",
       "    </tr>\n",
       "  </tbody>\n",
       "</table>\n",
       "</div>"
      ],
      "text/plain": [
       "   brewery_id       brewery_name              style        beer_name  beer_id\n",
       "0           1  Plzeňský Prazdroj  Bohemian Pilsener  Pilsner Urquell      429\n",
       "1           1  Plzeňský Prazdroj  Bohemian Pilsener        Gambrinus     5916\n",
       "2           1  Plzeňský Prazdroj  Bohemian Pilsener    Eisbrau Czech    14348\n",
       "3           1  Plzeňský Prazdroj  Bohemian Pilsener           Primus    19099\n",
       "4           1  Plzeňský Prazdroj  Bohemian Pilsener   Gambrinus Pale    19123"
      ]
     },
     "execution_count": 9,
     "metadata": {},
     "output_type": "execute_result"
    }
   ],
   "source": [
    "both = pd.merge(brewery_1, beers_1[['brewery_id', 'style', 'beer_name', 'beer_id']], on = 'brewery_id')\n",
    "\n",
    "both.head()"
   ]
  },
  {
   "cell_type": "code",
   "execution_count": 10,
   "metadata": {},
   "outputs": [
    {
     "data": {
      "text/html": [
       "<div>\n",
       "<style scoped>\n",
       "    .dataframe tbody tr th:only-of-type {\n",
       "        vertical-align: middle;\n",
       "    }\n",
       "\n",
       "    .dataframe tbody tr th {\n",
       "        vertical-align: top;\n",
       "    }\n",
       "\n",
       "    .dataframe thead th {\n",
       "        text-align: right;\n",
       "    }\n",
       "</style>\n",
       "<table border=\"1\" class=\"dataframe\">\n",
       "  <thead>\n",
       "    <tr style=\"text-align: right;\">\n",
       "      <th></th>\n",
       "      <th>beer_id</th>\n",
       "      <th>username</th>\n",
       "      <th>look</th>\n",
       "      <th>smell</th>\n",
       "      <th>taste</th>\n",
       "      <th>feel</th>\n",
       "      <th>overall</th>\n",
       "      <th>score</th>\n",
       "      <th>beer_name</th>\n",
       "      <th>brewery_name</th>\n",
       "      <th>style</th>\n",
       "    </tr>\n",
       "  </thead>\n",
       "  <tbody>\n",
       "    <tr>\n",
       "      <th>0</th>\n",
       "      <td>3</td>\n",
       "      <td>Jason</td>\n",
       "      <td>3.5</td>\n",
       "      <td>4.0</td>\n",
       "      <td>4.0</td>\n",
       "      <td>4.5</td>\n",
       "      <td>4.0</td>\n",
       "      <td>4.02</td>\n",
       "      <td>Cactus Queen IPA</td>\n",
       "      <td>Yellow Rose Brewing Company</td>\n",
       "      <td>American IPA</td>\n",
       "    </tr>\n",
       "    <tr>\n",
       "      <th>1</th>\n",
       "      <td>3</td>\n",
       "      <td>Morris729</td>\n",
       "      <td>4.0</td>\n",
       "      <td>3.5</td>\n",
       "      <td>4.0</td>\n",
       "      <td>4.0</td>\n",
       "      <td>4.0</td>\n",
       "      <td>3.88</td>\n",
       "      <td>Cactus Queen IPA</td>\n",
       "      <td>Yellow Rose Brewing Company</td>\n",
       "      <td>American IPA</td>\n",
       "    </tr>\n",
       "    <tr>\n",
       "      <th>2</th>\n",
       "      <td>3</td>\n",
       "      <td>MAB</td>\n",
       "      <td>4.0</td>\n",
       "      <td>4.5</td>\n",
       "      <td>4.5</td>\n",
       "      <td>4.0</td>\n",
       "      <td>4.5</td>\n",
       "      <td>4.42</td>\n",
       "      <td>Cactus Queen IPA</td>\n",
       "      <td>Yellow Rose Brewing Company</td>\n",
       "      <td>American IPA</td>\n",
       "    </tr>\n",
       "    <tr>\n",
       "      <th>3</th>\n",
       "      <td>4</td>\n",
       "      <td>allengarvin</td>\n",
       "      <td>3.5</td>\n",
       "      <td>3.5</td>\n",
       "      <td>3.5</td>\n",
       "      <td>4.0</td>\n",
       "      <td>3.5</td>\n",
       "      <td>3.55</td>\n",
       "      <td>Wildcatter's Crude Stout</td>\n",
       "      <td>Yellow Rose Brewing Company</td>\n",
       "      <td>American Stout</td>\n",
       "    </tr>\n",
       "    <tr>\n",
       "      <th>4</th>\n",
       "      <td>4</td>\n",
       "      <td>bditty187</td>\n",
       "      <td>4.0</td>\n",
       "      <td>3.0</td>\n",
       "      <td>3.0</td>\n",
       "      <td>3.5</td>\n",
       "      <td>3.5</td>\n",
       "      <td>3.21</td>\n",
       "      <td>Wildcatter's Crude Stout</td>\n",
       "      <td>Yellow Rose Brewing Company</td>\n",
       "      <td>American Stout</td>\n",
       "    </tr>\n",
       "  </tbody>\n",
       "</table>\n",
       "</div>"
      ],
      "text/plain": [
       "   beer_id     username  look  smell  taste  feel  overall  score  \\\n",
       "0        3        Jason   3.5    4.0    4.0   4.5      4.0   4.02   \n",
       "1        3    Morris729   4.0    3.5    4.0   4.0      4.0   3.88   \n",
       "2        3          MAB   4.0    4.5    4.5   4.0      4.5   4.42   \n",
       "3        4  allengarvin   3.5    3.5    3.5   4.0      3.5   3.55   \n",
       "4        4    bditty187   4.0    3.0    3.0   3.5      3.5   3.21   \n",
       "\n",
       "                  beer_name                 brewery_name           style  \n",
       "0          Cactus Queen IPA  Yellow Rose Brewing Company    American IPA  \n",
       "1          Cactus Queen IPA  Yellow Rose Brewing Company    American IPA  \n",
       "2          Cactus Queen IPA  Yellow Rose Brewing Company    American IPA  \n",
       "3  Wildcatter's Crude Stout  Yellow Rose Brewing Company  American Stout  \n",
       "4  Wildcatter's Crude Stout  Yellow Rose Brewing Company  American Stout  "
      ]
     },
     "execution_count": 10,
     "metadata": {},
     "output_type": "execute_result"
    }
   ],
   "source": [
    "all_three = pd.merge(reviews_1, both[['beer_name','brewery_name','style', 'beer_id']], on = 'beer_id')\n",
    "all_three.head()"
   ]
  },
  {
   "cell_type": "code",
   "execution_count": 11,
   "metadata": {},
   "outputs": [
    {
     "data": {
      "text/html": [
       "<div>\n",
       "<style scoped>\n",
       "    .dataframe tbody tr th:only-of-type {\n",
       "        vertical-align: middle;\n",
       "    }\n",
       "\n",
       "    .dataframe tbody tr th {\n",
       "        vertical-align: top;\n",
       "    }\n",
       "\n",
       "    .dataframe thead th {\n",
       "        text-align: right;\n",
       "    }\n",
       "</style>\n",
       "<table border=\"1\" class=\"dataframe\">\n",
       "  <thead>\n",
       "    <tr style=\"text-align: right;\">\n",
       "      <th></th>\n",
       "      <th>username</th>\n",
       "      <th>score</th>\n",
       "      <th>beer_name</th>\n",
       "      <th>brewery_name</th>\n",
       "      <th>style</th>\n",
       "    </tr>\n",
       "  </thead>\n",
       "  <tbody>\n",
       "    <tr>\n",
       "      <th>0</th>\n",
       "      <td>Jason</td>\n",
       "      <td>4.02</td>\n",
       "      <td>Cactus Queen IPA</td>\n",
       "      <td>Yellow Rose Brewing Company</td>\n",
       "      <td>American IPA</td>\n",
       "    </tr>\n",
       "    <tr>\n",
       "      <th>1</th>\n",
       "      <td>Morris729</td>\n",
       "      <td>3.88</td>\n",
       "      <td>Cactus Queen IPA</td>\n",
       "      <td>Yellow Rose Brewing Company</td>\n",
       "      <td>American IPA</td>\n",
       "    </tr>\n",
       "    <tr>\n",
       "      <th>2</th>\n",
       "      <td>MAB</td>\n",
       "      <td>4.42</td>\n",
       "      <td>Cactus Queen IPA</td>\n",
       "      <td>Yellow Rose Brewing Company</td>\n",
       "      <td>American IPA</td>\n",
       "    </tr>\n",
       "    <tr>\n",
       "      <th>3</th>\n",
       "      <td>allengarvin</td>\n",
       "      <td>3.55</td>\n",
       "      <td>Wildcatter's Crude Stout</td>\n",
       "      <td>Yellow Rose Brewing Company</td>\n",
       "      <td>American Stout</td>\n",
       "    </tr>\n",
       "    <tr>\n",
       "      <th>4</th>\n",
       "      <td>bditty187</td>\n",
       "      <td>3.21</td>\n",
       "      <td>Wildcatter's Crude Stout</td>\n",
       "      <td>Yellow Rose Brewing Company</td>\n",
       "      <td>American Stout</td>\n",
       "    </tr>\n",
       "    <tr>\n",
       "      <th>5</th>\n",
       "      <td>NeroFiddled</td>\n",
       "      <td>4.10</td>\n",
       "      <td>Wildcatter's Crude Stout</td>\n",
       "      <td>Yellow Rose Brewing Company</td>\n",
       "      <td>American Stout</td>\n",
       "    </tr>\n",
       "    <tr>\n",
       "      <th>6</th>\n",
       "      <td>assurbanipaul</td>\n",
       "      <td>3.45</td>\n",
       "      <td>Wildcatter's Crude Stout</td>\n",
       "      <td>Yellow Rose Brewing Company</td>\n",
       "      <td>American Stout</td>\n",
       "    </tr>\n",
       "    <tr>\n",
       "      <th>7</th>\n",
       "      <td>AtrumAnimus</td>\n",
       "      <td>4.88</td>\n",
       "      <td>Wildcatter's Crude Stout</td>\n",
       "      <td>Yellow Rose Brewing Company</td>\n",
       "      <td>American Stout</td>\n",
       "    </tr>\n",
       "    <tr>\n",
       "      <th>8</th>\n",
       "      <td>GreenCard</td>\n",
       "      <td>2.67</td>\n",
       "      <td>Wildcatter's Crude Stout</td>\n",
       "      <td>Yellow Rose Brewing Company</td>\n",
       "      <td>American Stout</td>\n",
       "    </tr>\n",
       "    <tr>\n",
       "      <th>9</th>\n",
       "      <td>Morris729</td>\n",
       "      <td>3.68</td>\n",
       "      <td>Wildcatter's Crude Stout</td>\n",
       "      <td>Yellow Rose Brewing Company</td>\n",
       "      <td>American Stout</td>\n",
       "    </tr>\n",
       "  </tbody>\n",
       "</table>\n",
       "</div>"
      ],
      "text/plain": [
       "        username  score                 beer_name  \\\n",
       "0          Jason   4.02          Cactus Queen IPA   \n",
       "1      Morris729   3.88          Cactus Queen IPA   \n",
       "2            MAB   4.42          Cactus Queen IPA   \n",
       "3    allengarvin   3.55  Wildcatter's Crude Stout   \n",
       "4      bditty187   3.21  Wildcatter's Crude Stout   \n",
       "5    NeroFiddled   4.10  Wildcatter's Crude Stout   \n",
       "6  assurbanipaul   3.45  Wildcatter's Crude Stout   \n",
       "7    AtrumAnimus   4.88  Wildcatter's Crude Stout   \n",
       "8      GreenCard   2.67  Wildcatter's Crude Stout   \n",
       "9      Morris729   3.68  Wildcatter's Crude Stout   \n",
       "\n",
       "                  brewery_name           style  \n",
       "0  Yellow Rose Brewing Company    American IPA  \n",
       "1  Yellow Rose Brewing Company    American IPA  \n",
       "2  Yellow Rose Brewing Company    American IPA  \n",
       "3  Yellow Rose Brewing Company  American Stout  \n",
       "4  Yellow Rose Brewing Company  American Stout  \n",
       "5  Yellow Rose Brewing Company  American Stout  \n",
       "6  Yellow Rose Brewing Company  American Stout  \n",
       "7  Yellow Rose Brewing Company  American Stout  \n",
       "8  Yellow Rose Brewing Company  American Stout  \n",
       "9  Yellow Rose Brewing Company  American Stout  "
      ]
     },
     "execution_count": 11,
     "metadata": {},
     "output_type": "execute_result"
    }
   ],
   "source": [
    "all_three_1 = all_three[['username', 'score', 'beer_name', 'brewery_name','style']]\n",
    "all_three_1.head(10)"
   ]
  },
  {
   "cell_type": "code",
   "execution_count": 12,
   "metadata": {},
   "outputs": [
    {
     "data": {
      "text/html": [
       "<div>\n",
       "<style scoped>\n",
       "    .dataframe tbody tr th:only-of-type {\n",
       "        vertical-align: middle;\n",
       "    }\n",
       "\n",
       "    .dataframe tbody tr th {\n",
       "        vertical-align: top;\n",
       "    }\n",
       "\n",
       "    .dataframe thead th {\n",
       "        text-align: right;\n",
       "    }\n",
       "</style>\n",
       "<table border=\"1\" class=\"dataframe\">\n",
       "  <thead>\n",
       "    <tr style=\"text-align: right;\">\n",
       "      <th></th>\n",
       "      <th>score</th>\n",
       "    </tr>\n",
       "  </thead>\n",
       "  <tbody>\n",
       "    <tr>\n",
       "      <th>count</th>\n",
       "      <td>9.072914e+06</td>\n",
       "    </tr>\n",
       "    <tr>\n",
       "      <th>mean</th>\n",
       "      <td>3.889811e+00</td>\n",
       "    </tr>\n",
       "    <tr>\n",
       "      <th>std</th>\n",
       "      <td>6.127441e-01</td>\n",
       "    </tr>\n",
       "    <tr>\n",
       "      <th>min</th>\n",
       "      <td>1.000000e+00</td>\n",
       "    </tr>\n",
       "    <tr>\n",
       "      <th>25%</th>\n",
       "      <td>3.570000e+00</td>\n",
       "    </tr>\n",
       "    <tr>\n",
       "      <th>50%</th>\n",
       "      <td>4.000000e+00</td>\n",
       "    </tr>\n",
       "    <tr>\n",
       "      <th>75%</th>\n",
       "      <td>4.250000e+00</td>\n",
       "    </tr>\n",
       "    <tr>\n",
       "      <th>max</th>\n",
       "      <td>5.000000e+00</td>\n",
       "    </tr>\n",
       "  </tbody>\n",
       "</table>\n",
       "</div>"
      ],
      "text/plain": [
       "              score\n",
       "count  9.072914e+06\n",
       "mean   3.889811e+00\n",
       "std    6.127441e-01\n",
       "min    1.000000e+00\n",
       "25%    3.570000e+00\n",
       "50%    4.000000e+00\n",
       "75%    4.250000e+00\n",
       "max    5.000000e+00"
      ]
     },
     "execution_count": 12,
     "metadata": {},
     "output_type": "execute_result"
    }
   ],
   "source": [
    "all_three_1.describe()"
   ]
  },
  {
   "cell_type": "code",
   "execution_count": 64,
   "metadata": {},
   "outputs": [
    {
     "data": {
      "image/png": "[encoded data removed]",
      "text/plain": [
       "<Figure size 1750x2500 with 1 Axes>"
      ]
     },
     "metadata": {},
     "output_type": "display_data"
    }
   ],
   "source": [
    "data=all_three_1.beer_name.value_counts()\n",
    "sns.set_context(\"talk\")\n",
    "sns.set_style(\"darkgrid\")\n",
    "#This plots the hist w/out kde\n",
    "plt.figure(figsize=(7,10), dpi= 250)\n",
    "ax = sns.histplot(data, bins = 50, kde=False,color='red', alpha = .7, log_scale= (True, True))\n",
    "\n",
    "#Creates another Y axis\n",
    "#second_ax = ax.twinx()\n",
    "\n",
    "#Plotting the kde w/out the hist on the second Y axis\n",
    "#sns.distplot(data, ax=second_ax, kde=True, hist= False, color='blue')\n",
    "\n",
    "#Removing Y ticks from 2nd axis\n",
    "#second_ax.set_yticks([])\n",
    "\n",
    "#Labels\n",
    "ax.set_xlabel('No. Reviews')\n",
    "ax.set_ylabel('No. Beers')\n",
    "ax.set_title('Histogram of Reviews');\n",
    "\n",
    "\n",
    "#plt.savefig('Review_Counts_logfin.png')"
   ]
  },
  {
   "cell_type": "code",
   "execution_count": 74,
   "metadata": {},
   "outputs": [],
   "source": [
    "grouped_styles = all_three_1.groupby('style')"
   ]
  },
  {
   "cell_type": "code",
   "execution_count": 81,
   "metadata": {},
   "outputs": [
    {
     "data": {
      "text/html": [
       "<div>\n",
       "<style scoped>\n",
       "    .dataframe tbody tr th:only-of-type {\n",
       "        vertical-align: middle;\n",
       "    }\n",
       "\n",
       "    .dataframe tbody tr th {\n",
       "        vertical-align: top;\n",
       "    }\n",
       "\n",
       "    .dataframe thead th {\n",
       "        text-align: right;\n",
       "    }\n",
       "</style>\n",
       "<table border=\"1\" class=\"dataframe\">\n",
       "  <thead>\n",
       "    <tr style=\"text-align: right;\">\n",
       "      <th></th>\n",
       "      <th>username</th>\n",
       "      <th>score</th>\n",
       "      <th>beer_name</th>\n",
       "      <th>brewery_name</th>\n",
       "    </tr>\n",
       "  </thead>\n",
       "  <tbody>\n",
       "    <tr>\n",
       "      <th>count</th>\n",
       "      <td>1.120000e+02</td>\n",
       "      <td>1.120000e+02</td>\n",
       "      <td>1.120000e+02</td>\n",
       "      <td>1.120000e+02</td>\n",
       "    </tr>\n",
       "    <tr>\n",
       "      <th>mean</th>\n",
       "      <td>8.100814e+04</td>\n",
       "      <td>8.100814e+04</td>\n",
       "      <td>8.100814e+04</td>\n",
       "      <td>8.100814e+04</td>\n",
       "    </tr>\n",
       "    <tr>\n",
       "      <th>std</th>\n",
       "      <td>1.420587e+05</td>\n",
       "      <td>1.420587e+05</td>\n",
       "      <td>1.420587e+05</td>\n",
       "      <td>1.420587e+05</td>\n",
       "    </tr>\n",
       "    <tr>\n",
       "      <th>min</th>\n",
       "      <td>4.000000e+00</td>\n",
       "      <td>4.000000e+00</td>\n",
       "      <td>4.000000e+00</td>\n",
       "      <td>4.000000e+00</td>\n",
       "    </tr>\n",
       "    <tr>\n",
       "      <th>25%</th>\n",
       "      <td>1.765900e+04</td>\n",
       "      <td>1.765900e+04</td>\n",
       "      <td>1.765900e+04</td>\n",
       "      <td>1.765900e+04</td>\n",
       "    </tr>\n",
       "    <tr>\n",
       "      <th>50%</th>\n",
       "      <td>4.304550e+04</td>\n",
       "      <td>4.304550e+04</td>\n",
       "      <td>4.304550e+04</td>\n",
       "      <td>4.304550e+04</td>\n",
       "    </tr>\n",
       "    <tr>\n",
       "      <th>75%</th>\n",
       "      <td>8.750500e+04</td>\n",
       "      <td>8.750500e+04</td>\n",
       "      <td>8.750500e+04</td>\n",
       "      <td>8.750500e+04</td>\n",
       "    </tr>\n",
       "    <tr>\n",
       "      <th>max</th>\n",
       "      <td>1.072015e+06</td>\n",
       "      <td>1.072015e+06</td>\n",
       "      <td>1.072015e+06</td>\n",
       "      <td>1.072015e+06</td>\n",
       "    </tr>\n",
       "  </tbody>\n",
       "</table>\n",
       "</div>"
      ],
      "text/plain": [
       "           username         score     beer_name  brewery_name\n",
       "count  1.120000e+02  1.120000e+02  1.120000e+02  1.120000e+02\n",
       "mean   8.100814e+04  8.100814e+04  8.100814e+04  8.100814e+04\n",
       "std    1.420587e+05  1.420587e+05  1.420587e+05  1.420587e+05\n",
       "min    4.000000e+00  4.000000e+00  4.000000e+00  4.000000e+00\n",
       "25%    1.765900e+04  1.765900e+04  1.765900e+04  1.765900e+04\n",
       "50%    4.304550e+04  4.304550e+04  4.304550e+04  4.304550e+04\n",
       "75%    8.750500e+04  8.750500e+04  8.750500e+04  8.750500e+04\n",
       "max    1.072015e+06  1.072015e+06  1.072015e+06  1.072015e+06"
      ]
     },
     "execution_count": 81,
     "metadata": {},
     "output_type": "execute_result"
    }
   ],
   "source": [
    "grouped_styles1 = grouped_styles.count().sort_values( by='username', ascending=False)\n",
    "grouped_styles1.describe()"
   ]
  },
  {
   "cell_type": "code",
   "execution_count": null,
   "metadata": {},
   "outputs": [],
   "source": []
  },
  {
   "cell_type": "code",
   "execution_count": 14,
   "metadata": {},
   "outputs": [],
   "source": [
    "grouped_beers = all_three_1.groupby('beer_name')"
   ]
  },
  {
   "cell_type": "code",
   "execution_count": 15,
   "metadata": {},
   "outputs": [
    {
     "data": {
      "text/html": [
       "<div>\n",
       "<style scoped>\n",
       "    .dataframe tbody tr th:only-of-type {\n",
       "        vertical-align: middle;\n",
       "    }\n",
       "\n",
       "    .dataframe tbody tr th {\n",
       "        vertical-align: top;\n",
       "    }\n",
       "\n",
       "    .dataframe thead th {\n",
       "        text-align: right;\n",
       "    }\n",
       "</style>\n",
       "<table border=\"1\" class=\"dataframe\">\n",
       "  <thead>\n",
       "    <tr style=\"text-align: right;\">\n",
       "      <th></th>\n",
       "      <th>username</th>\n",
       "      <th>score</th>\n",
       "      <th>brewery_name</th>\n",
       "      <th>style</th>\n",
       "    </tr>\n",
       "  </thead>\n",
       "  <tbody>\n",
       "    <tr>\n",
       "      <th>0.00</th>\n",
       "      <td>1.0</td>\n",
       "      <td>1.0</td>\n",
       "      <td>1.0</td>\n",
       "      <td>0.0</td>\n",
       "    </tr>\n",
       "    <tr>\n",
       "      <th>0.05</th>\n",
       "      <td>1.0</td>\n",
       "      <td>1.0</td>\n",
       "      <td>1.0</td>\n",
       "      <td>1.0</td>\n",
       "    </tr>\n",
       "    <tr>\n",
       "      <th>0.10</th>\n",
       "      <td>1.0</td>\n",
       "      <td>1.0</td>\n",
       "      <td>1.0</td>\n",
       "      <td>1.0</td>\n",
       "    </tr>\n",
       "    <tr>\n",
       "      <th>0.15</th>\n",
       "      <td>1.0</td>\n",
       "      <td>1.0</td>\n",
       "      <td>1.0</td>\n",
       "      <td>1.0</td>\n",
       "    </tr>\n",
       "    <tr>\n",
       "      <th>0.20</th>\n",
       "      <td>1.0</td>\n",
       "      <td>1.0</td>\n",
       "      <td>1.0</td>\n",
       "      <td>1.0</td>\n",
       "    </tr>\n",
       "    <tr>\n",
       "      <th>0.25</th>\n",
       "      <td>1.0</td>\n",
       "      <td>1.0</td>\n",
       "      <td>1.0</td>\n",
       "      <td>1.0</td>\n",
       "    </tr>\n",
       "    <tr>\n",
       "      <th>0.30</th>\n",
       "      <td>1.0</td>\n",
       "      <td>1.0</td>\n",
       "      <td>1.0</td>\n",
       "      <td>1.0</td>\n",
       "    </tr>\n",
       "    <tr>\n",
       "      <th>0.35</th>\n",
       "      <td>2.0</td>\n",
       "      <td>2.0</td>\n",
       "      <td>2.0</td>\n",
       "      <td>2.0</td>\n",
       "    </tr>\n",
       "    <tr>\n",
       "      <th>0.40</th>\n",
       "      <td>2.0</td>\n",
       "      <td>2.0</td>\n",
       "      <td>2.0</td>\n",
       "      <td>2.0</td>\n",
       "    </tr>\n",
       "    <tr>\n",
       "      <th>0.45</th>\n",
       "      <td>2.0</td>\n",
       "      <td>2.0</td>\n",
       "      <td>2.0</td>\n",
       "      <td>2.0</td>\n",
       "    </tr>\n",
       "    <tr>\n",
       "      <th>0.50</th>\n",
       "      <td>3.0</td>\n",
       "      <td>3.0</td>\n",
       "      <td>3.0</td>\n",
       "      <td>3.0</td>\n",
       "    </tr>\n",
       "    <tr>\n",
       "      <th>0.55</th>\n",
       "      <td>4.0</td>\n",
       "      <td>4.0</td>\n",
       "      <td>4.0</td>\n",
       "      <td>4.0</td>\n",
       "    </tr>\n",
       "    <tr>\n",
       "      <th>0.60</th>\n",
       "      <td>4.0</td>\n",
       "      <td>4.0</td>\n",
       "      <td>4.0</td>\n",
       "      <td>4.0</td>\n",
       "    </tr>\n",
       "    <tr>\n",
       "      <th>0.65</th>\n",
       "      <td>6.0</td>\n",
       "      <td>6.0</td>\n",
       "      <td>6.0</td>\n",
       "      <td>6.0</td>\n",
       "    </tr>\n",
       "    <tr>\n",
       "      <th>0.70</th>\n",
       "      <td>7.0</td>\n",
       "      <td>7.0</td>\n",
       "      <td>7.0</td>\n",
       "      <td>7.0</td>\n",
       "    </tr>\n",
       "    <tr>\n",
       "      <th>0.75</th>\n",
       "      <td>10.0</td>\n",
       "      <td>10.0</td>\n",
       "      <td>10.0</td>\n",
       "      <td>10.0</td>\n",
       "    </tr>\n",
       "    <tr>\n",
       "      <th>0.80</th>\n",
       "      <td>14.0</td>\n",
       "      <td>14.0</td>\n",
       "      <td>14.0</td>\n",
       "      <td>14.0</td>\n",
       "    </tr>\n",
       "    <tr>\n",
       "      <th>0.85</th>\n",
       "      <td>21.0</td>\n",
       "      <td>21.0</td>\n",
       "      <td>21.0</td>\n",
       "      <td>21.0</td>\n",
       "    </tr>\n",
       "    <tr>\n",
       "      <th>0.90</th>\n",
       "      <td>38.0</td>\n",
       "      <td>38.0</td>\n",
       "      <td>38.0</td>\n",
       "      <td>38.0</td>\n",
       "    </tr>\n",
       "    <tr>\n",
       "      <th>0.95</th>\n",
       "      <td>95.0</td>\n",
       "      <td>95.0</td>\n",
       "      <td>95.0</td>\n",
       "      <td>95.0</td>\n",
       "    </tr>\n",
       "  </tbody>\n",
       "</table>\n",
       "</div>"
      ],
      "text/plain": [
       "      username  score  brewery_name  style\n",
       "0.00       1.0    1.0           1.0    0.0\n",
       "0.05       1.0    1.0           1.0    1.0\n",
       "0.10       1.0    1.0           1.0    1.0\n",
       "0.15       1.0    1.0           1.0    1.0\n",
       "0.20       1.0    1.0           1.0    1.0\n",
       "0.25       1.0    1.0           1.0    1.0\n",
       "0.30       1.0    1.0           1.0    1.0\n",
       "0.35       2.0    2.0           2.0    2.0\n",
       "0.40       2.0    2.0           2.0    2.0\n",
       "0.45       2.0    2.0           2.0    2.0\n",
       "0.50       3.0    3.0           3.0    3.0\n",
       "0.55       4.0    4.0           4.0    4.0\n",
       "0.60       4.0    4.0           4.0    4.0\n",
       "0.65       6.0    6.0           6.0    6.0\n",
       "0.70       7.0    7.0           7.0    7.0\n",
       "0.75      10.0   10.0          10.0   10.0\n",
       "0.80      14.0   14.0          14.0   14.0\n",
       "0.85      21.0   21.0          21.0   21.0\n",
       "0.90      38.0   38.0          38.0   38.0\n",
       "0.95      95.0   95.0          95.0   95.0"
      ]
     },
     "execution_count": 15,
     "metadata": {},
     "output_type": "execute_result"
    }
   ],
   "source": [
    "grouped_beers.count().sort_values(by='username', ascending = False).quantile(np.arange(0,1,.05))"
   ]
  },
  {
   "cell_type": "code",
   "execution_count": 16,
   "metadata": {},
   "outputs": [
    {
     "data": {
      "text/html": [
       "<div>\n",
       "<style scoped>\n",
       "    .dataframe tbody tr th:only-of-type {\n",
       "        vertical-align: middle;\n",
       "    }\n",
       "\n",
       "    .dataframe tbody tr th {\n",
       "        vertical-align: top;\n",
       "    }\n",
       "\n",
       "    .dataframe thead th {\n",
       "        text-align: right;\n",
       "    }\n",
       "</style>\n",
       "<table border=\"1\" class=\"dataframe\">\n",
       "  <thead>\n",
       "    <tr style=\"text-align: right;\">\n",
       "      <th></th>\n",
       "      <th>score</th>\n",
       "    </tr>\n",
       "  </thead>\n",
       "  <tbody>\n",
       "    <tr>\n",
       "      <th>0.00</th>\n",
       "      <td>1.000000</td>\n",
       "    </tr>\n",
       "    <tr>\n",
       "      <th>0.05</th>\n",
       "      <td>2.940000</td>\n",
       "    </tr>\n",
       "    <tr>\n",
       "      <th>0.10</th>\n",
       "      <td>3.223333</td>\n",
       "    </tr>\n",
       "    <tr>\n",
       "      <th>0.15</th>\n",
       "      <td>3.375000</td>\n",
       "    </tr>\n",
       "    <tr>\n",
       "      <th>0.20</th>\n",
       "      <td>3.490000</td>\n",
       "    </tr>\n",
       "    <tr>\n",
       "      <th>0.25</th>\n",
       "      <td>3.546429</td>\n",
       "    </tr>\n",
       "    <tr>\n",
       "      <th>0.30</th>\n",
       "      <td>3.615809</td>\n",
       "    </tr>\n",
       "    <tr>\n",
       "      <th>0.35</th>\n",
       "      <td>3.675000</td>\n",
       "    </tr>\n",
       "    <tr>\n",
       "      <th>0.40</th>\n",
       "      <td>3.730000</td>\n",
       "    </tr>\n",
       "    <tr>\n",
       "      <th>0.45</th>\n",
       "      <td>3.760596</td>\n",
       "    </tr>\n",
       "    <tr>\n",
       "      <th>0.50</th>\n",
       "      <td>3.808661</td>\n",
       "    </tr>\n",
       "    <tr>\n",
       "      <th>0.55</th>\n",
       "      <td>3.852857</td>\n",
       "    </tr>\n",
       "    <tr>\n",
       "      <th>0.60</th>\n",
       "      <td>3.900000</td>\n",
       "    </tr>\n",
       "    <tr>\n",
       "      <th>0.65</th>\n",
       "      <td>3.950000</td>\n",
       "    </tr>\n",
       "    <tr>\n",
       "      <th>0.70</th>\n",
       "      <td>4.000000</td>\n",
       "    </tr>\n",
       "    <tr>\n",
       "      <th>0.75</th>\n",
       "      <td>4.032500</td>\n",
       "    </tr>\n",
       "    <tr>\n",
       "      <th>0.80</th>\n",
       "      <td>4.092963</td>\n",
       "    </tr>\n",
       "    <tr>\n",
       "      <th>0.85</th>\n",
       "      <td>4.160000</td>\n",
       "    </tr>\n",
       "    <tr>\n",
       "      <th>0.90</th>\n",
       "      <td>4.250000</td>\n",
       "    </tr>\n",
       "    <tr>\n",
       "      <th>0.95</th>\n",
       "      <td>4.360000</td>\n",
       "    </tr>\n",
       "  </tbody>\n",
       "</table>\n",
       "</div>"
      ],
      "text/plain": [
       "         score\n",
       "0.00  1.000000\n",
       "0.05  2.940000\n",
       "0.10  3.223333\n",
       "0.15  3.375000\n",
       "0.20  3.490000\n",
       "0.25  3.546429\n",
       "0.30  3.615809\n",
       "0.35  3.675000\n",
       "0.40  3.730000\n",
       "0.45  3.760596\n",
       "0.50  3.808661\n",
       "0.55  3.852857\n",
       "0.60  3.900000\n",
       "0.65  3.950000\n",
       "0.70  4.000000\n",
       "0.75  4.032500\n",
       "0.80  4.092963\n",
       "0.85  4.160000\n",
       "0.90  4.250000\n",
       "0.95  4.360000"
      ]
     },
     "execution_count": 16,
     "metadata": {},
     "output_type": "execute_result"
    }
   ],
   "source": [
    "grouped_beers.mean().sort_values(by= 'score', ascending=False).quantile(np.arange(0,1,.05))"
   ]
  },
  {
   "cell_type": "code",
   "execution_count": 17,
   "metadata": {},
   "outputs": [
    {
     "name": "stdout",
     "output_type": "stream",
     "text": [
      "182227 beers have an average score below 4.0\n",
      "A 4.0 avg score puts the beer within the bottom 70th%-tile\n"
     ]
    }
   ],
   "source": [
    "avg_score= grouped_beers.mean()\n",
    "#beers with average rating less than 4.0 are not worth recommending, and \n",
    "#i wanted to save on computational power\n",
    "\n",
    "below_avg = avg_score['score'] < 4.0\n",
    "below_avg_count = len(avg_score[below_avg])\n",
    "\n",
    "print('{} beers have an average score below 4.0'.format(below_avg_count))\n",
    "print('A 4.0 avg score puts the beer within the bottom 70th%-tile')"
   ]
  },
  {
   "cell_type": "code",
   "execution_count": 18,
   "metadata": {},
   "outputs": [],
   "source": [
    "# bottom_20percent_rating = grouped_beers.mean().quantile(np.arange(0,.21,.02))\n",
    "# bottom_20percent_counts = grouped_beers.count().quantile(np.arange(0,.21,.02))"
   ]
  },
  {
   "cell_type": "code",
   "execution_count": 63,
   "metadata": {},
   "outputs": [
    {
     "data": {
      "image/png": "[encoded data removed]",
      "text/plain": [
       "<Figure size 1750x2500 with 1 Axes>"
      ]
     },
     "metadata": {},
     "output_type": "display_data"
    }
   ],
   "source": [
    "data2=all_three_1.username.value_counts()\n",
    "sns.set_style('darkgrid')\n",
    "sns.set_context('talk')\n",
    "plt.figure(figsize= (7,10), dpi=250)\n",
    "ax2 = sns.histplot(data2, bins = 50, kde=False, color='red', alpha=.7, log_scale= (True,True))\n",
    "\n",
    "#second_ax2 = ax2.twinx()\n",
    "\n",
    "#sns.distplot(data2, ax=second_ax2, kde=True, hist= False, color='blue')\n",
    "\n",
    "#second_ax2.set_yticks([])\n",
    "\n",
    "ax2.set_xlabel('No. Reviews')\n",
    "ax2.set_ylabel('No. Users')\n",
    "ax2.set_title('Histogram of Users');\n",
    "\n",
    "#plt.savefig('User_counts_logfin.png')"
   ]
  },
  {
   "cell_type": "code",
   "execution_count": 20,
   "metadata": {},
   "outputs": [],
   "source": [
    "grouped_users= all_three_1.groupby('username')"
   ]
  },
  {
   "cell_type": "code",
   "execution_count": 21,
   "metadata": {},
   "outputs": [
    {
     "name": "stdout",
     "output_type": "stream",
     "text": [
      "52181 users rated 1 or fewer beers\n",
      "73066 users rated 2 or fewer beers\n",
      "85405 users rated 3 or fewer beers\n",
      "93620 users rated 4 or fewer beers\n",
      "99708 users rated 5 or fewer beers\n",
      "116396 users rated 10 or fewer beers\n",
      "124641 users rated 15 or fewer beers\n",
      "129740 users rated 20 or fewer beers\n",
      "\n",
      "\n",
      "Total Unique Users in this dataset: 164933\n"
     ]
    }
   ],
   "source": [
    "grouped_users_count = grouped_users.count()\n",
    "\n",
    "counts = [1,2,3,4,5,10,15,20]\n",
    "for ct in counts:\n",
    "    num_users = grouped_users_count[grouped_users_count['score'] <= ct].count()[0]\n",
    "    print('{} users rated {} or fewer beers'.format(num_users, ct))\n",
    "\n",
    "print('\\n')\n",
    "print('Total Unique Users in this dataset: {}'.format(len(all_three_1.username.unique())))"
   ]
  },
  {
   "cell_type": "code",
   "execution_count": 22,
   "metadata": {},
   "outputs": [],
   "source": [
    "subpar_beers_list= list(avg_score[below_avg].index)\n",
    "\n",
    "ratings_count = grouped_beers.count()\n",
    "\n",
    "#Here i'm setting beers that have ratings counts less than 20 to be called low amount of ratings\n",
    "\n",
    "low_ratings_count = ratings_count[ratings_count['score'] < 20]\n",
    "low_ratings_list = list(low_ratings_count.index)"
   ]
  },
  {
   "cell_type": "code",
   "execution_count": 23,
   "metadata": {},
   "outputs": [
    {
     "name": "stdout",
     "output_type": "stream",
     "text": [
      "Number of beers in bottom 50% of avg rating: 182227\n",
      "Number of beers in bottom 50% of review counts: 219894\n",
      "Number of beers in both categories: 153558\n"
     ]
    }
   ],
   "source": [
    "unique_subpar_beers = set(subpar_beers_list)\n",
    "unique_low_ratings_beers = set(low_ratings_list)\n",
    "overlap = unique_subpar_beers.intersection(unique_low_ratings_beers)\n",
    "print('Number of beers in bottom 50% of avg rating: {}'.format(len(unique_subpar_beers)))\n",
    "print('Number of beers in bottom 50% of review counts: {}'.format(len(unique_low_ratings_beers)))\n",
    "print('Number of beers in both categories: {}'.format(len(overlap)))"
   ]
  },
  {
   "cell_type": "code",
   "execution_count": 24,
   "metadata": {},
   "outputs": [],
   "source": [
    "#Here the beers that are in the bottom of both categories are removed\n",
    "df1 = all_three_1[~all_three_1.beer_name.isin(subpar_beers_list)]\n",
    "df2 = df1[~df1.beer_name.isin(low_ratings_list)]\n",
    "all_three_2 = copy.deepcopy(df2)"
   ]
  },
  {
   "cell_type": "code",
   "execution_count": 25,
   "metadata": {},
   "outputs": [
    {
     "name": "stdout",
     "output_type": "stream",
     "text": [
      "<class 'pandas.core.frame.DataFrame'>\n",
      "Int64Index: 3569155 entries, 13052 to 9072897\n",
      "Data columns (total 5 columns):\n",
      " #   Column        Dtype  \n",
      "---  ------        -----  \n",
      " 0   username      object \n",
      " 1   score         float64\n",
      " 2   beer_name     object \n",
      " 3   brewery_name  object \n",
      " 4   style         object \n",
      "dtypes: float64(1), object(4)\n",
      "memory usage: 163.4+ MB\n"
     ]
    }
   ],
   "source": [
    "all_three_2.info()"
   ]
  },
  {
   "cell_type": "code",
   "execution_count": 26,
   "metadata": {},
   "outputs": [
    {
     "name": "stdout",
     "output_type": "stream",
     "text": [
      "Original number of unique beers: 261837\n",
      "Revised number of unique beers: 13274\n"
     ]
    }
   ],
   "source": [
    "print('Original number of unique beers: {}'.format(len(all_three_1.beer_name.unique())))\n",
    "\n",
    "print('Revised number of unique beers: {}'.format(len(all_three_2.beer_name.unique())))"
   ]
  },
  {
   "cell_type": "code",
   "execution_count": 27,
   "metadata": {},
   "outputs": [],
   "source": [
    "#creating a new beerID for each beer\n",
    "grouped_name = all_three_2.groupby('beer_name')\n",
    "temp_df = grouped_name.count()\n",
    "temp_df_idx = pd.DataFrame(temp_df.index)\n",
    "\n",
    "temp_df_idx['beerID'] = temp_df_idx.index\n",
    "dict_df = temp_df_idx[['beerID', 'beer_name']]\n",
    "\n",
    "desc_dict = dict_df.set_index('beer_name').to_dict()\n",
    "new_dict = desc_dict['beerID']\n",
    "\n",
    "all_three_2['beerID']= all_three_2.beer_name.map(new_dict)\n",
    "\n",
    "#creating a new userID for each user\n",
    "grouped_user = all_three_2.groupby('username')\n",
    "\n",
    "temp_df_user = grouped_user.count()\n",
    "temp_df_user_idx = pd.DataFrame(temp_df_user.index)\n",
    "\n",
    "temp_df_user_idx['userID'] = temp_df_user_idx.index\n",
    "dict_df_user = temp_df_user_idx[['userID', 'username']]\n",
    "\n",
    "desc_dict_user = dict_df_user.set_index('username').to_dict()\n",
    "new_dict_user = desc_dict_user['userID']\n",
    "\n",
    "all_three_2['userID'] = all_three_2.username.map(new_dict_user)\n"
   ]
  },
  {
   "cell_type": "code",
   "execution_count": 28,
   "metadata": {},
   "outputs": [
    {
     "data": {
      "text/html": [
       "<div>\n",
       "<style scoped>\n",
       "    .dataframe tbody tr th:only-of-type {\n",
       "        vertical-align: middle;\n",
       "    }\n",
       "\n",
       "    .dataframe tbody tr th {\n",
       "        vertical-align: top;\n",
       "    }\n",
       "\n",
       "    .dataframe thead th {\n",
       "        text-align: right;\n",
       "    }\n",
       "</style>\n",
       "<table border=\"1\" class=\"dataframe\">\n",
       "  <thead>\n",
       "    <tr style=\"text-align: right;\">\n",
       "      <th></th>\n",
       "      <th>username</th>\n",
       "      <th>score</th>\n",
       "      <th>beer_name</th>\n",
       "      <th>brewery_name</th>\n",
       "      <th>style</th>\n",
       "      <th>beerID</th>\n",
       "      <th>userID</th>\n",
       "    </tr>\n",
       "  </thead>\n",
       "  <tbody>\n",
       "    <tr>\n",
       "      <th>13052</th>\n",
       "      <td>Michelle68Bressler</td>\n",
       "      <td>4.50</td>\n",
       "      <td>Mackeson Triple XXX Stout</td>\n",
       "      <td>Whitbread PLC</td>\n",
       "      <td>English Sweet / Milk Stout</td>\n",
       "      <td>7478</td>\n",
       "      <td>41312</td>\n",
       "    </tr>\n",
       "    <tr>\n",
       "      <th>13053</th>\n",
       "      <td>CalgaryFMC</td>\n",
       "      <td>3.78</td>\n",
       "      <td>Mackeson Triple XXX Stout</td>\n",
       "      <td>Whitbread PLC</td>\n",
       "      <td>English Sweet / Milk Stout</td>\n",
       "      <td>7478</td>\n",
       "      <td>11221</td>\n",
       "    </tr>\n",
       "    <tr>\n",
       "      <th>13054</th>\n",
       "      <td>MaddDogg84</td>\n",
       "      <td>5.00</td>\n",
       "      <td>Mackeson Triple XXX Stout</td>\n",
       "      <td>Whitbread PLC</td>\n",
       "      <td>English Sweet / Milk Stout</td>\n",
       "      <td>7478</td>\n",
       "      <td>38856</td>\n",
       "    </tr>\n",
       "    <tr>\n",
       "      <th>13055</th>\n",
       "      <td>BillRoth</td>\n",
       "      <td>4.00</td>\n",
       "      <td>Mackeson Triple XXX Stout</td>\n",
       "      <td>Whitbread PLC</td>\n",
       "      <td>English Sweet / Milk Stout</td>\n",
       "      <td>7478</td>\n",
       "      <td>7440</td>\n",
       "    </tr>\n",
       "    <tr>\n",
       "      <th>13056</th>\n",
       "      <td>dbaker61</td>\n",
       "      <td>3.75</td>\n",
       "      <td>Mackeson Triple XXX Stout</td>\n",
       "      <td>Whitbread PLC</td>\n",
       "      <td>English Sweet / Milk Stout</td>\n",
       "      <td>7478</td>\n",
       "      <td>77030</td>\n",
       "    </tr>\n",
       "  </tbody>\n",
       "</table>\n",
       "</div>"
      ],
      "text/plain": [
       "                 username  score                  beer_name   brewery_name  \\\n",
       "13052  Michelle68Bressler   4.50  Mackeson Triple XXX Stout  Whitbread PLC   \n",
       "13053          CalgaryFMC   3.78  Mackeson Triple XXX Stout  Whitbread PLC   \n",
       "13054          MaddDogg84   5.00  Mackeson Triple XXX Stout  Whitbread PLC   \n",
       "13055            BillRoth   4.00  Mackeson Triple XXX Stout  Whitbread PLC   \n",
       "13056            dbaker61   3.75  Mackeson Triple XXX Stout  Whitbread PLC   \n",
       "\n",
       "                            style  beerID  userID  \n",
       "13052  English Sweet / Milk Stout    7478   41312  \n",
       "13053  English Sweet / Milk Stout    7478   11221  \n",
       "13054  English Sweet / Milk Stout    7478   38856  \n",
       "13055  English Sweet / Milk Stout    7478    7440  \n",
       "13056  English Sweet / Milk Stout    7478   77030  "
      ]
     },
     "execution_count": 28,
     "metadata": {},
     "output_type": "execute_result"
    }
   ],
   "source": [
    "all_three_2.head()"
   ]
  },
  {
   "cell_type": "code",
   "execution_count": 29,
   "metadata": {},
   "outputs": [],
   "source": [
    "def read_item_names():\n",
    "    file_name = dict_df\n",
    "    raw_id_to_name = {}\n",
    "    name_to_raw_id = {}\n",
    "    \n",
    "    #there were 13274 unique beers after removing those w/ low rating and review counts\n",
    "    unique_beers= len(all_three_2.beer_name.unique())\n",
    "    \n",
    "\n",
    "    for i in range(unique_beers):\n",
    "        line=file_name.iloc[i]\n",
    "        raw_id_to_name[line[0]] = line[1]\n",
    "        name_to_raw_id[line[1]] = line[0]\n",
    "        \n",
    "\n",
    "    return raw_id_to_name, name_to_raw_id\n",
    "    \n"
   ]
  },
  {
   "cell_type": "code",
   "execution_count": 30,
   "metadata": {},
   "outputs": [],
   "source": [
    "# #Train the algorithm to compute the similarities between items (item-item collaborative filtering)\n",
    "\n",
    "# reader= Reader(rating_scale=(1,5))\n",
    "# data= Dataset.load_from_df(all_three_2[['userID', 'beerID', 'score']],reader)\n",
    "# trainset = data.build_full_trainset()\n",
    "# sim_options = {'username':'pearson_baseline', 'user_based': False}\n",
    "# algo= KNNBaseline(sim_options = sim_options)\n",
    "# algo.fit(trainset)\n",
    "\n",
    "# predictions = algo.test(testset)\n",
    "# accuracy.rmse(predictions)"
   ]
  },
  {
   "cell_type": "code",
   "execution_count": 31,
   "metadata": {},
   "outputs": [],
   "source": [
    "def get_recommendation(beer_name, k_):\n",
    "    '''Input a beer and get k recommendations \n",
    "       that are based on similarity\n",
    "       \n",
    "       Input: string, integer\n",
    "       Output: string\n",
    "    '''\n",
    "    output = []\n",
    "    beer= str(beer_name)\n",
    "    \n",
    "    #Read the maps raw id --> beer name and vice versa\n",
    "    raw_id_to_name, name_to_raw_id = read_item_names()\n",
    "    #get the inner id of the beer\n",
    "    beer_input_raw_id = name_to_raw_id[beer]\n",
    "    beer_input_inner_id = algo.trainset.to_inner_iid(beer_input_raw_id)\n",
    "    \n",
    "    K= k_\n",
    "    \n",
    "    #get the inner ids of the nearest neighbors of the beer\n",
    "    beer_input_near_neigh = algo.get_neighbors(beer_input_inner_id, k=K)\n",
    "    \n",
    "    #changes the inner ids of the neighbors into names\n",
    "    beer_input_near_neigh = (algo.trainset.to_raw_iid(inner_id)\n",
    "                            for inner_id in beer_input_near_neigh)\n",
    "    beer_input_near_neigh = (raw_id_to_name[rid]\n",
    "                            for rid in beer_input_near_neigh)\n",
    "    \n",
    "    for beer_ in beer_input_near_neigh:\n",
    "        output.append(beer_)\n",
    "        \n",
    "    return output"
   ]
  },
  {
   "cell_type": "code",
   "execution_count": 32,
   "metadata": {},
   "outputs": [
    {
     "name": "stdout",
     "output_type": "stream",
     "text": [
      "Estimating biases using als...\n",
      "Computing the msd similarity matrix...\n",
      "Done computing similarity matrix.\n",
      "RMSE: 0.3044\n",
      "MSE: 0.0927\n",
      "MAE:  0.2077\n"
     ]
    },
    {
     "data": {
      "text/plain": [
       "0.20765872977968283"
      ]
     },
     "execution_count": 32,
     "metadata": {},
     "output_type": "execute_result"
    }
   ],
   "source": [
    "\n",
    "#Train the algorithm to compute the similarities between items (item-item collaborative filtering)\n",
    "\n",
    "reader= Reader(rating_scale=(1,5))\n",
    "data= Dataset.load_from_df(all_three_2[['userID', 'beerID', 'score']],reader)\n",
    "trainset, testset = train_test_split(data, test_size = .20)\n",
    "trainset = data.build_full_trainset()\n",
    "sim_options = {'username':'pearson_baseline', 'user_based': False}\n",
    "algo= KNNBaseline(sim_options = sim_options)\n",
    "algo.fit(trainset)\n",
    "\n",
    "predictions = algo.test(testset)\n",
    "accuracy.rmse(predictions)\n",
    "accuracy.mse(predictions)\n",
    "#accuracy.fcp(predictions)\n",
    "accuracy.mae(predictions)"
   ]
  },
  {
   "cell_type": "code",
   "execution_count": 33,
   "metadata": {},
   "outputs": [],
   "source": [
    "with open('algo.pkl', 'wb') as f:\n",
    "    pickle.dump(algo, f)"
   ]
  },
  {
   "cell_type": "code",
   "execution_count": 34,
   "metadata": {},
   "outputs": [],
   "source": [
    "with open('algo.pkl', 'rb') as m:\n",
    "    algo_model = pickle.load(m)\n",
    "\n",
    "#algo_model.test(testset)"
   ]
  },
  {
   "cell_type": "code",
   "execution_count": 35,
   "metadata": {},
   "outputs": [],
   "source": [
    "#This evaluates the performance using Surprise's evaluation module, but couldn't get it to import\n",
    "#evaluate(algo, data, measures = ['RMSE', 'MAE'])\n"
   ]
  },
  {
   "cell_type": "code",
   "execution_count": 36,
   "metadata": {},
   "outputs": [
    {
     "data": {
      "text/plain": [
       "['Imperial Stout',\n",
       " 'Breakfast Stout',\n",
       " '90 Minute IPA',\n",
       " 'Pliny The Elder',\n",
       " 'Two Hearted Ale',\n",
       " 'Sculpin IPA',\n",
       " 'Heady Topper',\n",
       " 'Hopslam Ale',\n",
       " 'KBS (Kentucky Breakfast Stout)',\n",
       " 'Bourbon County Brand Stout',\n",
       " 'Old Rasputin',\n",
       " 'Sierra Nevada Pale Ale',\n",
       " 'Torpedo Extra IPA',\n",
       " 'Enjoy By IPA',\n",
       " 'Ruination IPA',\n",
       " '60 Minute IPA',\n",
       " 'Arrogant Bastard Ale',\n",
       " 'Zombie Dust',\n",
       " 'Celebration Fresh Hop IPA',\n",
       " 'Lagunitas Sucks',\n",
       " 'La Fin Du Monde',\n",
       " 'Ten FIDY',\n",
       " 'Abt 12',\n",
       " 'Trappistes Rochefort 10',\n",
       " \"A Little Sumpin' Sumpin' Ale\",\n",
       " 'Imperial Russian Stout',\n",
       " 'Centennial IPA',\n",
       " 'Nugget Nectar',\n",
       " 'Weihenstephaner Hefeweissbier',\n",
       " 'Backwoods Bastard',\n",
       " '120 Minute IPA',\n",
       " 'Jai Alai IPA',\n",
       " 'West Coast IPA',\n",
       " 'Harvest Ale',\n",
       " 'Duvel Belgian Golden Ale',\n",
       " 'Chimay Grande Réserve (Blue)',\n",
       " 'Hop Stoopid',\n",
       " 'Racer 5 India Pale Ale',\n",
       " 'Dirty Bastard',\n",
       " 'Pumking',\n",
       " 'Bigfoot Barleywine-Style Ale',\n",
       " 'Double Jack',\n",
       " 'HopDevil India Pale Ale',\n",
       " 'The Abyss',\n",
       " 'Bourbon County Brand Coffee Stout',\n",
       " 'Victory At Sea Imperial Porter with Coffee & Vanilla',\n",
       " 'Speedway Stout',\n",
       " 'Union Jack IPA',\n",
       " 'Parabola',\n",
       " 'Brooklyn Black Chocolate Stout']"
      ]
     },
     "execution_count": 36,
     "metadata": {},
     "output_type": "execute_result"
    }
   ],
   "source": [
    "#top 50 most rated beers\n",
    "grouped_beer_names = all_three_2.groupby('beer_name')\n",
    "grouped_beer_names.count().sort_values(by='username', ascending= False)[0:50].index.tolist()\n"
   ]
  },
  {
   "cell_type": "code",
   "execution_count": 37,
   "metadata": {},
   "outputs": [
    {
     "data": {
      "text/plain": [
       "['2 Candles',\n",
       " 'Vanilla Bean Assassin',\n",
       " 'One Candle',\n",
       " '3 Candles',\n",
       " 'Kentucky Brunch Brand Stout',\n",
       " 'Rare Bourbon County Brand Stout (2010)',\n",
       " 'Derivation Blend #2 (Ugandan Vanilla Bean)',\n",
       " 'Good Morning',\n",
       " 'Pilot Series Passionfruit Dragonfruit Berliner',\n",
       " 'Pilot Series Miami Madness Berliner',\n",
       " 'Derivation Blend #5 (Rum Barrel W/ Sump Colombian Coffee + Ugandan Vanilla)',\n",
       " 'R&D Sour Fruit (Very Sour Blackberry)',\n",
       " 'Hannahpu - Mayan Chocolate Doughnut Hunahpu Imperial Stout',\n",
       " 'Anabasis',\n",
       " 'Bake Kujira - Cali Brandy Big Poppa',\n",
       " 'Derivation Blend #6 (Cinnamon, Cocoa Nibs And Ugandan Vanilla)',\n",
       " 'Bourbon County Brand Neapolitan Stout',\n",
       " 'Miles To Go Before I Sleep',\n",
       " 'Double Barrel Hunahpoopoo',\n",
       " 'Barrel-Aged Abraxas',\n",
       " 'Black Magick - Pappy Van Winkle',\n",
       " 'Bczar Beans',\n",
       " 'King Julius',\n",
       " 'Drie Fonteinen Zenne Y Frontera',\n",
       " 'Marshmallow Handjee',\n",
       " 'The Curious No. 6',\n",
       " \"Armand'4 Oude Geuze Lente (Spring)\",\n",
       " 'Popinski - Bourbon Barrel-Aged - Peanut Butter And Marshmallow',\n",
       " 'King JJJuliusss',\n",
       " 'RareR DOS Ampersand Plus',\n",
       " 'A Night To End All Dawns (2015) - Double Barrel-Aged',\n",
       " \"Hunahpu's Imperial Stout - Double Barrel Aged\",\n",
       " 'Oude Fermier',\n",
       " 'SR-71',\n",
       " 'Chemtrailmix (2017)',\n",
       " 'Chemtrailmix (2018)',\n",
       " 'Barrel Aged Imperial German Chocolate Cupcake Stout',\n",
       " \"Hunahpu's Imperial Stout - Laird's Apple Brandy Barrel\",\n",
       " 'Cognac Masterpiece',\n",
       " 'ManBearPig',\n",
       " 'Very Hazy',\n",
       " 'Speedway Stout - Coconut And Vanilla',\n",
       " 'Heady Topper',\n",
       " 'Rare Scooop',\n",
       " 'Veritas 005',\n",
       " 'Damon (Double Barrel Aged) (2016)',\n",
       " 'French Vanilla Militia (2016)',\n",
       " 'King Henry',\n",
       " \"Proprietor's Bourbon County Brand Stout (2013)\",\n",
       " 'Fundamental Observation']"
      ]
     },
     "execution_count": 37,
     "metadata": {},
     "output_type": "execute_result"
    }
   ],
   "source": [
    "#top 100 highest rated beers\n",
    "grouped_beer_names.mean().sort_values(by='score', ascending = False)[0:50].index.tolist()"
   ]
  },
  {
   "cell_type": "code",
   "execution_count": 38,
   "metadata": {},
   "outputs": [
    {
     "name": "stdout",
     "output_type": "stream",
     "text": [
      "The 20 nearest neighbors of Good Morning are:\n"
     ]
    },
    {
     "data": {
      "text/plain": [
       "['Augustiner Bräu Märzen Bier',\n",
       " 'Pisgah Tripel',\n",
       " 'Golem',\n",
       " 'Jai Alai IPA - Juniper Cedar Aged \"Twigs And Berries\" (Humidor Series)',\n",
       " 'Perigosa Imperial IPA',\n",
       " 'Kiwi Cherry Coconut Berliner',\n",
       " 'Barrel Aged Celebration Stout',\n",
       " 'Highly Suspicious',\n",
       " 'Mornington Peninsula Imperial Stout',\n",
       " \"Schell's Stag Series: Barleywine\",\n",
       " 'Bears Choice',\n",
       " 'Dominion Spring Brew 2004',\n",
       " \"Vishnu's Vice IPA\",\n",
       " 'Fantabulous Resplendence X Anniversary',\n",
       " 'Time-Out IPA',\n",
       " 'Aotearoa',\n",
       " 'Brooklyn Saison De Brooklyn',\n",
       " 'Épluche-Culotte',\n",
       " 'Jai Alai IPA - Mango',\n",
       " 'Monogamy - Nelson Sauvin']"
      ]
     },
     "execution_count": 38,
     "metadata": {},
     "output_type": "execute_result"
    }
   ],
   "source": [
    "\n",
    "print('The 20 nearest neighbors of Good Morning are:')\n",
    "get_recommendation('Good Morning',20 )"
   ]
  },
  {
   "cell_type": "code",
   "execution_count": 39,
   "metadata": {},
   "outputs": [
    {
     "name": "stdout",
     "output_type": "stream",
     "text": [
      "The 20 nearest neighbor to Peanut Butter And Bals are:\n"
     ]
    },
    {
     "data": {
      "text/plain": [
       "['Mönchshof Schwarzbier',\n",
       " \"Ol' Jack Frost Imperial Stout\",\n",
       " 'Double Shot',\n",
       " \"Chunga's Old Bruin\",\n",
       " 'Drie Fonteinen Oude Geuze 1998 (50th Anniversary)',\n",
       " 'Cherry Fred From The Wood',\n",
       " 'Pro-AM 2010 (Smoked Porter)',\n",
       " 'George! Bourbon Edition',\n",
       " 'Highland Wild Ale',\n",
       " 'Marry Me In Goslar',\n",
       " 'Coffee Eugene',\n",
       " 'Genealogy Of Morals (Madeira Barrel Aged)',\n",
       " 'Delusion',\n",
       " 'Le Roar Grrrz',\n",
       " 'George - Cognac Barrel Aged',\n",
       " 'Damon (Double Barrel Aged)',\n",
       " 'Mexican Cake - Apple Brandy Barrel-Aged',\n",
       " 'Mexican Cake - Jack Daniels Barrel-Aged',\n",
       " 'Beer Hates Astronauts',\n",
       " 'Et Tu Brut']"
      ]
     },
     "execution_count": 39,
     "metadata": {},
     "output_type": "execute_result"
    }
   ],
   "source": [
    "\n",
    "print('The 20 nearest neighbor to Peanut Butter And Bals are:')\n",
    "get_recommendation('Peanut Butter And Bals', 20)"
   ]
  },
  {
   "cell_type": "code",
   "execution_count": 40,
   "metadata": {},
   "outputs": [],
   "source": [
    "top_200_rated = all_three_2.groupby('beer_name').count().sort_values(by= 'username', ascending = False)[0:200].index.tolist()\n",
    "top_200_rated = set(top_200_rated)\n",
    "\n",
    "top_200_scores = all_three_2.groupby('beer_name').mean().sort_values(by='score', ascending = False)[0:200].index.tolist()\n",
    "top_200_scores = set(top_200_scores)\n",
    "\n",
    "pbnb= set(get_recommendation('Peanut Butter And Bals', 50))\n",
    "dfh90 = set(get_recommendation('90 Minute IPA', 50))\n",
    "gmviet = set(get_recommendation('Good Morning', 50))\n",
    "kbbs = set(get_recommendation('Kentucky Brunch Brand Stout', 50))\n",
    "tha = set(get_recommendation('Two Hearted Ale', 50))"
   ]
  },
  {
   "cell_type": "code",
   "execution_count": 41,
   "metadata": {},
   "outputs": [
    {
     "name": "stdout",
     "output_type": "stream",
     "text": [
      "set()\n",
      "{'King Sue', 'Mexican Cake - Jack Daniels Barrel-Aged', 'Mexican Cake - Apple Brandy Barrel-Aged', 'Speedway Stout - Vietnamese Coffee - Bourbon-Barrel Aged', 'Imperial Eclipse Stout - Elijah Craig (20 Year Single Barrel)', 'Stenciled Pages', 'Bourbon Barrel Aged Dark Lord (Pappy Van Winkle)'}\n",
      "set()\n",
      "set()\n",
      "set()\n",
      "{'Peanut Butter And Bals'}\n",
      "set()\n",
      "{'One Candle', 'Pulling Nails Blend #8', \"Black Tuesday - S'more\", '3 Candles', 'Peanut Butter And Bals'}\n",
      "set()\n",
      "set()\n"
     ]
    }
   ],
   "source": [
    "print(pbnb.intersection(top_200_rated))\n",
    "print(pbnb.intersection(top_200_scores))\n",
    "print(dfh90.intersection(top_200_rated))\n",
    "print(dfh90.intersection(top_200_scores))\n",
    "print(gmviet.intersection(top_200_rated))\n",
    "print(gmviet.intersection(top_200_scores))\n",
    "print(kbbs.intersection(top_200_rated))\n",
    "print(kbbs.intersection(top_200_scores))\n",
    "print(tha.intersection(top_200_rated))\n",
    "print(tha.intersection(top_200_scores))\n"
   ]
  },
  {
   "cell_type": "code",
   "execution_count": 42,
   "metadata": {},
   "outputs": [
    {
     "name": "stdout",
     "output_type": "stream",
     "text": [
      "set()\n",
      "{'Peanut Butter And Bals'}\n",
      "{'Pliny The Younger', 'KBS (Kentucky Breakfast Stout)', 'Parabola', 'Julius', 'Pliny The Elder', 'Bourbon County Brand Coffee Stout', 'CBS (Canadian Breakfast Stout)', 'Heady Topper', 'Trappist Westvleteren 12 (XII)'}\n"
     ]
    }
   ],
   "source": [
    "print(gmviet.intersection(top_200_rated))\n",
    "print(gmviet.intersection(top_200_scores))\n",
    "print(top_200_rated.intersection(top_200_scores))"
   ]
  },
  {
   "cell_type": "code",
   "execution_count": 43,
   "metadata": {},
   "outputs": [
    {
     "name": "stdout",
     "output_type": "stream",
     "text": [
      "The 50 nearest neighbors of Enjoy By IPA:\n"
     ]
    },
    {
     "data": {
      "text/plain": [
       "{'...Eak Of Nature 1/2 Double IPA',\n",
       " 'Albino Slug',\n",
       " 'Amager / Arizona Wilderness Arizona Beast',\n",
       " 'Azacca Flocka Haze',\n",
       " 'BQExC',\n",
       " 'Baby Blammo!',\n",
       " \"Bagby's Last Stand\",\n",
       " 'Barrel Project 17.03',\n",
       " 'Battle Of The Lords',\n",
       " 'Big Fish Barleywine',\n",
       " 'Blackberry And Lavender',\n",
       " 'Bomb! De Balcones',\n",
       " 'Bourbon Barrel-Aged Imperial Maple Porter',\n",
       " 'Breakfast Kløb',\n",
       " 'Cellar Series: Põhjala / To Øl - Taanilinn - Cognac Barrrel-Aged',\n",
       " 'Cream Of Broccoli',\n",
       " 'Dirt Dirt Nap Nap',\n",
       " 'Expedition Stout - TC Whiskey Barrel-Aged',\n",
       " 'Farmageddon - Niagara Montmorency Cherry',\n",
       " 'Fated Farmer: Blueberry',\n",
       " 'Faust Hefeweizen Dunkel',\n",
       " 'Foeder Project #2',\n",
       " 'Frank Double IPA',\n",
       " 'Fresh Hop 2009',\n",
       " 'Fresh IIPA V8',\n",
       " 'Grand Larceny (Triple Dry Hopped)',\n",
       " 'IV Hazy Pale Ale',\n",
       " 'In The Steep',\n",
       " 'Ivan Kozhedub (IVAN)',\n",
       " 'Krieke Vier',\n",
       " 'Kuhnhenn Confusion DIPA',\n",
       " 'Manhattan Cask Imperial Stout',\n",
       " 'Oat Overdose',\n",
       " 'Ode To Blumpy',\n",
       " \"Ol' Jack Frost Imperial Stout\",\n",
       " 'Orange Muscat Lineage Rye',\n",
       " 'Orderville - Double Dry-Hopped',\n",
       " 'Oud Beersel Oude Geuze Vandervelden 135 Years',\n",
       " 'Personvl Personvl Spvce Spvce',\n",
       " 'Phantom Hand',\n",
       " 'Preserve & Protect',\n",
       " 'Péché Mortel Élevée En Barriques De Cognac Et Brandy',\n",
       " 'Red Eye Coffee Stout',\n",
       " \"Rorie's Ale\",\n",
       " 'Saxy Machismo',\n",
       " 'Sisyphus West Coast IPA',\n",
       " 'V. Fudge',\n",
       " \"Viking's Lament\",\n",
       " 'Work From Home',\n",
       " 'Works of Love: Tired Hands (Farm Ghosthands)'}"
      ]
     },
     "execution_count": 43,
     "metadata": {},
     "output_type": "execute_result"
    }
   ],
   "source": [
    "ebi = set(get_recommendation('Enjoy By IPA', 50))\n",
    "print('The 50 nearest neighbors of Enjoy By IPA:')\n",
    "ebi"
   ]
  },
  {
   "cell_type": "code",
   "execution_count": 44,
   "metadata": {},
   "outputs": [],
   "source": [
    "all_three_2_pivot = all_three_2.pivot_table(index = 'username', columns = 'beer_name', values= 'score').fillna(0)\n"
   ]
  },
  {
   "cell_type": "code",
   "execution_count": 45,
   "metadata": {},
   "outputs": [
    {
     "name": "stdout",
     "output_type": "stream",
     "text": [
      "<class 'pandas.core.frame.DataFrame'>\n",
      "Index: 115539 entries, 0 to zzxasd43and\n",
      "Columns: 13274 entries, ! to 日本から来たネコ (Some Cat From Japan)\n",
      "dtypes: float64(13274)\n",
      "memory usage: 11.4+ GB\n"
     ]
    }
   ],
   "source": [
    "all_three_2_pivot.info()"
   ]
  },
  {
   "cell_type": "code",
   "execution_count": 46,
   "metadata": {},
   "outputs": [
    {
     "data": {
      "text/plain": [
       "(13274, 115539)"
      ]
     },
     "execution_count": 46,
     "metadata": {},
     "output_type": "execute_result"
    }
   ],
   "source": [
    "Transposed = all_three_2_pivot.values.T\n",
    "Transposed.shape"
   ]
  },
  {
   "cell_type": "code",
   "execution_count": 47,
   "metadata": {},
   "outputs": [],
   "source": [
    "def explained_vary(list_n_components):\n",
    "    '''\n",
    "    input = list of integers\n",
    "    output = list of tuples showing n_components and it's explained \n",
    "    variance ratio\n",
    "    '''\n",
    "    out= []\n",
    "    \n",
    "    for num in list_n_components:\n",
    "        SVD = TruncatedSVD(n_components = num, random_state= num)\n",
    "        SVD.fit_transform(Transposed)\n",
    "        evar = np.sum(SVD.explained_variance_ratio_)\n",
    "        t = (num, evar)\n",
    "        out.append(t)\n",
    "        \n",
    "    return out"
   ]
  },
  {
   "cell_type": "code",
   "execution_count": 48,
   "metadata": {},
   "outputs": [],
   "source": [
    "n_comp = [10,25,50,100,200,300,400]\n",
    "explained_variance = explained_vary(n_comp)"
   ]
  },
  {
   "cell_type": "code",
   "execution_count": 49,
   "metadata": {},
   "outputs": [
    {
     "name": "stdout",
     "output_type": "stream",
     "text": [
      "(10, 0.28072724540158916)\n",
      "(25, 0.3281149505910027)\n",
      "(50, 0.37529008447708945)\n",
      "(100, 0.43682932315157375)\n",
      "(200, 0.5183829126584807)\n",
      "(300, 0.5762785362845172)\n",
      "(400, 0.6219520216270802)\n"
     ]
    },
    {
     "data": {
      "text/plain": [
       "[None, None, None, None, None, None, None]"
      ]
     },
     "execution_count": 49,
     "metadata": {},
     "output_type": "execute_result"
    }
   ],
   "source": [
    "[print(i) for i in explained_variance]"
   ]
  },
  {
   "cell_type": "code",
   "execution_count": 50,
   "metadata": {},
   "outputs": [
    {
     "data": {
      "image/png": "[encoded data removed]",
      "text/plain": [
       "<Figure size 432x288 with 1 Axes>"
      ]
     },
     "metadata": {},
     "output_type": "display_data"
    }
   ],
   "source": [
    "x,y = zip(*explained_variance)\n",
    "plt.scatter(x,y);\n",
    "#plt.savefig('Components_for_beers_.png')"
   ]
  },
  {
   "cell_type": "code",
   "execution_count": 51,
   "metadata": {},
   "outputs": [
    {
     "data": {
      "text/plain": [
       "(13274, 300)"
      ]
     },
     "execution_count": 51,
     "metadata": {},
     "output_type": "execute_result"
    }
   ],
   "source": [
    "SVD_300 = TruncatedSVD(n_components=300, random_state=42)\n",
    "matrix_300= SVD_300.fit_transform(Transposed)\n",
    "matrix_300.shape"
   ]
  },
  {
   "cell_type": "code",
   "execution_count": 52,
   "metadata": {},
   "outputs": [
    {
     "data": {
      "text/plain": [
       "(13274, 13274)"
      ]
     },
     "execution_count": 52,
     "metadata": {},
     "output_type": "execute_result"
    }
   ],
   "source": [
    "#correlation/similarity matrix\n",
    "corr_300 = np.corrcoef(matrix_300)\n",
    "corr_300.shape"
   ]
  },
  {
   "cell_type": "code",
   "execution_count": 53,
   "metadata": {},
   "outputs": [],
   "source": [
    "#name of all beers\n",
    "beer_rec_names_300= all_three_2_pivot.columns\n",
    "\n",
    "#list of all beer names\n",
    "beer_rec_list_300 = list(beer_rec_names_300)"
   ]
  },
  {
   "cell_type": "code",
   "execution_count": 54,
   "metadata": {},
   "outputs": [],
   "source": [
    "def svd_300_recomm(string, n):\n",
    "    '''\n",
    "    function that returns top n-number of recommendations\n",
    "    based on input of beer name and n\n",
    "    inputs: string(name of beer) -> string\n",
    "            n (n recommendations) -> int\n",
    "    '''\n",
    "    \n",
    "    #we have to get the index of the beer name from list of all beers in training data\n",
    "    get_index = beer_rec_list_300.index(string)\n",
    "    \n",
    "    similarities = corr_300[get_index]\n",
    "    \n",
    "    closest = []\n",
    "    for idx, coeff in enumerate(similarities):\n",
    "        closest.append((beer_rec_list_300[idx], coeff))\n",
    "        \n",
    "    closest.sort(key=lambda x: x[1], reverse=True)\n",
    "    \n",
    "    out=[]\n",
    "    for i in range (1, n+1):\n",
    "        out.append(closest[i][0])\n",
    "    return out"
   ]
  },
  {
   "cell_type": "code",
   "execution_count": 55,
   "metadata": {},
   "outputs": [
    {
     "data": {
      "text/plain": [
       "['Humulus Wet',\n",
       " 'Pharaoh',\n",
       " \"Black Tuesday - S'more\",\n",
       " 'Dirty Beaver Juice Weekend',\n",
       " 'Ad Lib']"
      ]
     },
     "execution_count": 55,
     "metadata": {},
     "output_type": "execute_result"
    }
   ],
   "source": [
    "#let's get the top 20 for a beer we looked at earlier\n",
    "svd_300_recomm('Peanut Butter And Bals', 5)\n"
   ]
  },
  {
   "cell_type": "code",
   "execution_count": 56,
   "metadata": {},
   "outputs": [
    {
     "data": {
      "text/plain": [
       "['Mönchshof Schwarzbier',\n",
       " \"Ol' Jack Frost Imperial Stout\",\n",
       " 'Double Shot',\n",
       " \"Chunga's Old Bruin\",\n",
       " 'Drie Fonteinen Oude Geuze 1998 (50th Anniversary)']"
      ]
     },
     "execution_count": 56,
     "metadata": {},
     "output_type": "execute_result"
    }
   ],
   "source": [
    "(get_recommendation('Peanut Butter And Bals', 5))"
   ]
  },
  {
   "cell_type": "code",
   "execution_count": 57,
   "metadata": {},
   "outputs": [
    {
     "name": "stdout",
     "output_type": "stream",
     "text": [
      "common beers: {\"Deeeez Smokin' Nuts\", 'Doheny Double IPA', 'Mrs. Stoutfire - Rum Barrel-Aged'}\n",
      "number of common beers: 3\n"
     ]
    }
   ],
   "source": [
    "#latent factors method\n",
    "A = set(svd_300_recomm('Peanut Butter And Bals', 100))\n",
    "\n",
    "#neighborhood method\n",
    "B = set(get_recommendation('Peanut Butter And Bals',100))\n",
    "\n",
    "print('common beers: {}'.format(A.intersection(B)))\n",
    "print('number of common beers: {}'.format(len(A.intersection(B))))"
   ]
  },
  {
   "cell_type": "code",
   "execution_count": 58,
   "metadata": {},
   "outputs": [],
   "source": [
    "def compare_recomm(name_list, n):\n",
    "    \n",
    "    results= []\n",
    "    \n",
    "    for idx, name in enumerate(name_list):\n",
    "        svd = set(svd_300_recomm(name, n))\n",
    "        knn = set(get_recommendation(name, n))\n",
    "        common = len(svd.intersection(knn))\n",
    "        tup = (idx, common)\n",
    "        results.append(tup)\n",
    "        \n",
    "    x,y = zip(*results)\n",
    "    plt.scatter(x,y, alpha=.4, marker='.')\n",
    "    plt.xlabel('Beer No.')\n",
    "    plt.ylabel('Common Recommendations')\n",
    "    plt.show();"
   ]
  },
  {
   "cell_type": "code",
   "execution_count": 59,
   "metadata": {},
   "outputs": [],
   "source": [
    "#select every 50 beers from highest avg rating to lowest avg rating\n",
    "grouped = all_three_2.groupby('beer_name')\n",
    "namelist = grouped.mean().sort_values(by='score', ascending=False)[::100].index.tolist()\n"
   ]
  },
  {
   "cell_type": "code",
   "execution_count": 61,
   "metadata": {},
   "outputs": [
    {
     "data": {
      "image/png": "[encoded data removed]",
      "text/plain": [
       "<Figure size 432x288 with 1 Axes>"
      ]
     },
     "metadata": {},
     "output_type": "display_data"
    }
   ],
   "source": [
    "compare_recomm(namelist, 100)"
   ]
  },
  {
   "cell_type": "code",
   "execution_count": null,
   "metadata": {},
   "outputs": [],
   "source": []
  },
  {
   "cell_type": "code",
   "execution_count": null,
   "metadata": {},
   "outputs": [],
   "source": []
  }
 ],
 "metadata": {
  "kernelspec": {
   "display_name": "Python 3",
   "language": "python",
   "name": "python3"
  },
  "language_info": {
   "codemirror_mode": {
    "name": "ipython",
    "version": 3
   },
   "file_extension": ".py",
   "mimetype": "text/x-python",
   "name": "python",
   "nbconvert_exporter": "python",
   "pygments_lexer": "ipython3",
   "version": "3.7.9"
  }
 },
 "nbformat": 4,
 "nbformat_minor": 4
}
